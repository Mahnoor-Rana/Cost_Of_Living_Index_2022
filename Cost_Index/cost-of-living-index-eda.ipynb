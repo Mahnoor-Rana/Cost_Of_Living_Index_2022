{
 "cells": [
  {
   "cell_type": "code",
   "execution_count": 46,
   "metadata": {
    "_cell_guid": "b1076dfc-b9ad-4769-8c92-a6c4dae69d19",
    "_uuid": "8f2839f25d086af736a60e9eeb907d3b93b6e0e5",
    "execution": {
     "iopub.execute_input": "2022-03-30T11:22:07.941088Z",
     "iopub.status.busy": "2022-03-30T11:22:07.940715Z",
     "iopub.status.idle": "2022-03-30T11:22:09.095511Z",
     "shell.execute_reply": "2022-03-30T11:22:09.094529Z",
     "shell.execute_reply.started": "2022-03-30T11:22:07.940988Z"
    }
   },
   "outputs": [],
   "source": [
    "import pandas as pd \n",
    "import numpy as np\n",
    "import seaborn as sns \n",
    "import matplotlib.pyplot as plt "
   ]
  },
  {
   "cell_type": "code",
   "execution_count": 47,
   "metadata": {
    "execution": {
     "iopub.execute_input": "2022-03-30T11:22:09.098087Z",
     "iopub.status.busy": "2022-03-30T11:22:09.097722Z",
     "iopub.status.idle": "2022-03-30T11:22:24.77501Z",
     "shell.execute_reply": "2022-03-30T11:22:24.774131Z",
     "shell.execute_reply.started": "2022-03-30T11:22:09.098037Z"
    }
   },
   "outputs": [
    {
     "name": "stdout",
     "output_type": "stream",
     "text": [
      "Requirement already satisfied: numbers-parser in d:\\anaconda\\lib\\site-packages (2.3.8)\n",
      "Requirement already satisfied: roman in d:\\anaconda\\lib\\site-packages (from numbers-parser) (3.3)\n",
      "Requirement already satisfied: protobuf in c:\\users\\shoaib\\appdata\\roaming\\python\\python38\\site-packages (from numbers-parser) (3.19.1)\n",
      "Requirement already satisfied: python-snappy in d:\\anaconda\\lib\\site-packages (from numbers-parser) (0.6.1)\n"
     ]
    }
   ],
   "source": [
    "!pip install numbers-parser"
   ]
  },
  {
   "cell_type": "code",
   "execution_count": 48,
   "metadata": {
    "execution": {
     "iopub.execute_input": "2022-03-30T11:22:24.776908Z",
     "iopub.status.busy": "2022-03-30T11:22:24.776619Z",
     "iopub.status.idle": "2022-03-30T11:22:24.927003Z",
     "shell.execute_reply": "2022-03-30T11:22:24.925947Z",
     "shell.execute_reply.started": "2022-03-30T11:22:24.776867Z"
    }
   },
   "outputs": [],
   "source": [
    "from numbers_parser import Document"
   ]
  },
  {
   "cell_type": "code",
   "execution_count": 54,
   "metadata": {
    "execution": {
     "iopub.execute_input": "2022-03-30T11:22:24.929661Z",
     "iopub.status.busy": "2022-03-30T11:22:24.929332Z",
     "iopub.status.idle": "2022-03-30T11:22:24.989152Z",
     "shell.execute_reply": "2022-03-30T11:22:24.988179Z",
     "shell.execute_reply.started": "2022-03-30T11:22:24.92962Z"
    }
   },
   "outputs": [],
   "source": [
    "doc = Document(\"Cost of Living Index 2022.numbers\")\n",
    "\n",
    "sheets = doc.sheets()\n",
    "\n",
    "tables = sheets[0].tables()\n"
   ]
  },
  {
   "cell_type": "code",
   "execution_count": 55,
   "metadata": {
    "execution": {
     "iopub.execute_input": "2022-03-30T11:22:24.99077Z",
     "iopub.status.busy": "2022-03-30T11:22:24.990492Z",
     "iopub.status.idle": "2022-03-30T11:22:25.046859Z",
     "shell.execute_reply": "2022-03-30T11:22:25.046029Z",
     "shell.execute_reply.started": "2022-03-30T11:22:24.990738Z"
    }
   },
   "outputs": [
    {
     "data": {
      "text/plain": [
       "[[None, None, None, None, None, None, None, None],\n",
       " ['Rank',\n",
       "  'Country',\n",
       "  'Cost of Living Index',\n",
       "  'Rent Index',\n",
       "  'Cost of Living Plus Rent Index',\n",
       "  'Groceries Index',\n",
       "  'Restaurant Price Index',\n",
       "  'Local Purchasing Power Index'],\n",
       " [1.0, 'Afghanistan', 20.37, 2.72, 12.09, 14.92, 12.41, 23.04],\n",
       " [2.0, 'Albania', 35.5, 8.47, 22.83, 29.32, 25.82, 30.19],\n",
       " [3.0, 'Algeria', 26.87, 4.59, 16.43, 28.82, 14.48, 24.63]]"
      ]
     },
     "execution_count": 55,
     "metadata": {},
     "output_type": "execute_result"
    }
   ],
   "source": [
    "# check tables only rows \n",
    "data = tables[0].rows(values_only=True)\n",
    "data[0:5]"
   ]
  },
  {
   "cell_type": "code",
   "execution_count": 56,
   "metadata": {
    "execution": {
     "iopub.execute_input": "2022-03-30T11:22:25.048498Z",
     "iopub.status.busy": "2022-03-30T11:22:25.048172Z",
     "iopub.status.idle": "2022-03-30T11:22:25.091614Z",
     "shell.execute_reply": "2022-03-30T11:22:25.090984Z",
     "shell.execute_reply.started": "2022-03-30T11:22:25.048457Z"
    }
   },
   "outputs": [
    {
     "data": {
      "text/html": [
       "<div>\n",
       "<style scoped>\n",
       "    .dataframe tbody tr th:only-of-type {\n",
       "        vertical-align: middle;\n",
       "    }\n",
       "\n",
       "    .dataframe tbody tr th {\n",
       "        vertical-align: top;\n",
       "    }\n",
       "\n",
       "    .dataframe thead th {\n",
       "        text-align: right;\n",
       "    }\n",
       "</style>\n",
       "<table border=\"1\" class=\"dataframe\">\n",
       "  <thead>\n",
       "    <tr style=\"text-align: right;\">\n",
       "      <th></th>\n",
       "      <th>Rank</th>\n",
       "      <th>Country</th>\n",
       "      <th>Cost of Living Index</th>\n",
       "      <th>Rent Index</th>\n",
       "      <th>Cost of Living Plus Rent Index</th>\n",
       "      <th>Groceries Index</th>\n",
       "      <th>Restaurant Price Index</th>\n",
       "      <th>Local Purchasing Power Index</th>\n",
       "    </tr>\n",
       "  </thead>\n",
       "  <tbody>\n",
       "    <tr>\n",
       "      <th>0</th>\n",
       "      <td>1.0</td>\n",
       "      <td>Afghanistan</td>\n",
       "      <td>20.37</td>\n",
       "      <td>2.72</td>\n",
       "      <td>12.09</td>\n",
       "      <td>14.92</td>\n",
       "      <td>12.41</td>\n",
       "      <td>23.04</td>\n",
       "    </tr>\n",
       "    <tr>\n",
       "      <th>1</th>\n",
       "      <td>2.0</td>\n",
       "      <td>Albania</td>\n",
       "      <td>35.50</td>\n",
       "      <td>8.47</td>\n",
       "      <td>22.83</td>\n",
       "      <td>29.32</td>\n",
       "      <td>25.82</td>\n",
       "      <td>30.19</td>\n",
       "    </tr>\n",
       "    <tr>\n",
       "      <th>2</th>\n",
       "      <td>3.0</td>\n",
       "      <td>Algeria</td>\n",
       "      <td>26.87</td>\n",
       "      <td>4.59</td>\n",
       "      <td>16.43</td>\n",
       "      <td>28.82</td>\n",
       "      <td>14.48</td>\n",
       "      <td>24.63</td>\n",
       "    </tr>\n",
       "    <tr>\n",
       "      <th>3</th>\n",
       "      <td>4.0</td>\n",
       "      <td>Argentina</td>\n",
       "      <td>34.69</td>\n",
       "      <td>7.71</td>\n",
       "      <td>22.04</td>\n",
       "      <td>28.17</td>\n",
       "      <td>33.32</td>\n",
       "      <td>30.72</td>\n",
       "    </tr>\n",
       "    <tr>\n",
       "      <th>4</th>\n",
       "      <td>5.0</td>\n",
       "      <td>Armenia</td>\n",
       "      <td>33.89</td>\n",
       "      <td>11.61</td>\n",
       "      <td>23.45</td>\n",
       "      <td>27.59</td>\n",
       "      <td>30.55</td>\n",
       "      <td>28.86</td>\n",
       "    </tr>\n",
       "    <tr>\n",
       "      <th>...</th>\n",
       "      <td>...</td>\n",
       "      <td>...</td>\n",
       "      <td>...</td>\n",
       "      <td>...</td>\n",
       "      <td>...</td>\n",
       "      <td>...</td>\n",
       "      <td>...</td>\n",
       "      <td>...</td>\n",
       "    </tr>\n",
       "    <tr>\n",
       "      <th>134</th>\n",
       "      <td>135.0</td>\n",
       "      <td>Venezuela</td>\n",
       "      <td>43.20</td>\n",
       "      <td>9.99</td>\n",
       "      <td>27.63</td>\n",
       "      <td>37.34</td>\n",
       "      <td>46.23</td>\n",
       "      <td>15.41</td>\n",
       "    </tr>\n",
       "    <tr>\n",
       "      <th>135</th>\n",
       "      <td>136.0</td>\n",
       "      <td>Vietnam</td>\n",
       "      <td>37.48</td>\n",
       "      <td>13.22</td>\n",
       "      <td>26.11</td>\n",
       "      <td>38.70</td>\n",
       "      <td>19.98</td>\n",
       "      <td>29.38</td>\n",
       "    </tr>\n",
       "    <tr>\n",
       "      <th>136</th>\n",
       "      <td>137.0</td>\n",
       "      <td>Yemen</td>\n",
       "      <td>53.14</td>\n",
       "      <td>6.71</td>\n",
       "      <td>31.38</td>\n",
       "      <td>67.12</td>\n",
       "      <td>24.74</td>\n",
       "      <td>14.41</td>\n",
       "    </tr>\n",
       "    <tr>\n",
       "      <th>137</th>\n",
       "      <td>138.0</td>\n",
       "      <td>Zambia</td>\n",
       "      <td>33.04</td>\n",
       "      <td>9.26</td>\n",
       "      <td>21.90</td>\n",
       "      <td>31.53</td>\n",
       "      <td>22.46</td>\n",
       "      <td>40.33</td>\n",
       "    </tr>\n",
       "    <tr>\n",
       "      <th>138</th>\n",
       "      <td>139.0</td>\n",
       "      <td>Zimbabwe</td>\n",
       "      <td>45.68</td>\n",
       "      <td>8.75</td>\n",
       "      <td>28.37</td>\n",
       "      <td>39.88</td>\n",
       "      <td>38.13</td>\n",
       "      <td>19.07</td>\n",
       "    </tr>\n",
       "  </tbody>\n",
       "</table>\n",
       "<p>139 rows × 8 columns</p>\n",
       "</div>"
      ],
      "text/plain": [
       "      Rank      Country  Cost of Living Index  Rent Index  \\\n",
       "0      1.0  Afghanistan                 20.37        2.72   \n",
       "1      2.0      Albania                 35.50        8.47   \n",
       "2      3.0      Algeria                 26.87        4.59   \n",
       "3      4.0    Argentina                 34.69        7.71   \n",
       "4      5.0      Armenia                 33.89       11.61   \n",
       "..     ...          ...                   ...         ...   \n",
       "134  135.0    Venezuela                 43.20        9.99   \n",
       "135  136.0      Vietnam                 37.48       13.22   \n",
       "136  137.0        Yemen                 53.14        6.71   \n",
       "137  138.0       Zambia                 33.04        9.26   \n",
       "138  139.0     Zimbabwe                 45.68        8.75   \n",
       "\n",
       "     Cost of Living Plus Rent Index  Groceries Index  Restaurant Price Index  \\\n",
       "0                             12.09            14.92                   12.41   \n",
       "1                             22.83            29.32                   25.82   \n",
       "2                             16.43            28.82                   14.48   \n",
       "3                             22.04            28.17                   33.32   \n",
       "4                             23.45            27.59                   30.55   \n",
       "..                              ...              ...                     ...   \n",
       "134                           27.63            37.34                   46.23   \n",
       "135                           26.11            38.70                   19.98   \n",
       "136                           31.38            67.12                   24.74   \n",
       "137                           21.90            31.53                   22.46   \n",
       "138                           28.37            39.88                   38.13   \n",
       "\n",
       "     Local Purchasing Power Index  \n",
       "0                           23.04  \n",
       "1                           30.19  \n",
       "2                           24.63  \n",
       "3                           30.72  \n",
       "4                           28.86  \n",
       "..                            ...  \n",
       "134                         15.41  \n",
       "135                         29.38  \n",
       "136                         14.41  \n",
       "137                         40.33  \n",
       "138                         19.07  \n",
       "\n",
       "[139 rows x 8 columns]"
      ]
     },
     "execution_count": 56,
     "metadata": {},
     "output_type": "execute_result"
    }
   ],
   "source": [
    "data.pop(0) # removes a row of null values in the data file\n",
    "column_data = data.pop(0) # the next row contains column headings\n",
    "\n",
    "column_df = pd.DataFrame(data, columns=column_data)\n",
    "column_df"
   ]
  },
  {
   "cell_type": "markdown",
   "metadata": {},
   "source": [
    "## EXPLORATORY DATA ANALYSIS"
   ]
  },
  {
   "cell_type": "code",
   "execution_count": 57,
   "metadata": {
    "execution": {
     "iopub.execute_input": "2022-03-30T11:22:25.09303Z",
     "iopub.status.busy": "2022-03-30T11:22:25.092698Z",
     "iopub.status.idle": "2022-03-30T11:22:25.10917Z",
     "shell.execute_reply": "2022-03-30T11:22:25.108445Z",
     "shell.execute_reply.started": "2022-03-30T11:22:25.093Z"
    }
   },
   "outputs": [
    {
     "data": {
      "text/html": [
       "<div>\n",
       "<style scoped>\n",
       "    .dataframe tbody tr th:only-of-type {\n",
       "        vertical-align: middle;\n",
       "    }\n",
       "\n",
       "    .dataframe tbody tr th {\n",
       "        vertical-align: top;\n",
       "    }\n",
       "\n",
       "    .dataframe thead th {\n",
       "        text-align: right;\n",
       "    }\n",
       "</style>\n",
       "<table border=\"1\" class=\"dataframe\">\n",
       "  <thead>\n",
       "    <tr style=\"text-align: right;\">\n",
       "      <th></th>\n",
       "      <th>Rank</th>\n",
       "      <th>Country</th>\n",
       "      <th>Cost of Living Index</th>\n",
       "      <th>Rent Index</th>\n",
       "      <th>Cost of Living Plus Rent Index</th>\n",
       "      <th>Groceries Index</th>\n",
       "      <th>Restaurant Price Index</th>\n",
       "      <th>Local Purchasing Power Index</th>\n",
       "    </tr>\n",
       "  </thead>\n",
       "  <tbody>\n",
       "    <tr>\n",
       "      <th>0</th>\n",
       "      <td>1.0</td>\n",
       "      <td>Afghanistan</td>\n",
       "      <td>20.37</td>\n",
       "      <td>2.72</td>\n",
       "      <td>12.09</td>\n",
       "      <td>14.92</td>\n",
       "      <td>12.41</td>\n",
       "      <td>23.04</td>\n",
       "    </tr>\n",
       "    <tr>\n",
       "      <th>1</th>\n",
       "      <td>2.0</td>\n",
       "      <td>Albania</td>\n",
       "      <td>35.50</td>\n",
       "      <td>8.47</td>\n",
       "      <td>22.83</td>\n",
       "      <td>29.32</td>\n",
       "      <td>25.82</td>\n",
       "      <td>30.19</td>\n",
       "    </tr>\n",
       "    <tr>\n",
       "      <th>2</th>\n",
       "      <td>3.0</td>\n",
       "      <td>Algeria</td>\n",
       "      <td>26.87</td>\n",
       "      <td>4.59</td>\n",
       "      <td>16.43</td>\n",
       "      <td>28.82</td>\n",
       "      <td>14.48</td>\n",
       "      <td>24.63</td>\n",
       "    </tr>\n",
       "    <tr>\n",
       "      <th>3</th>\n",
       "      <td>4.0</td>\n",
       "      <td>Argentina</td>\n",
       "      <td>34.69</td>\n",
       "      <td>7.71</td>\n",
       "      <td>22.04</td>\n",
       "      <td>28.17</td>\n",
       "      <td>33.32</td>\n",
       "      <td>30.72</td>\n",
       "    </tr>\n",
       "    <tr>\n",
       "      <th>4</th>\n",
       "      <td>5.0</td>\n",
       "      <td>Armenia</td>\n",
       "      <td>33.89</td>\n",
       "      <td>11.61</td>\n",
       "      <td>23.45</td>\n",
       "      <td>27.59</td>\n",
       "      <td>30.55</td>\n",
       "      <td>28.86</td>\n",
       "    </tr>\n",
       "  </tbody>\n",
       "</table>\n",
       "</div>"
      ],
      "text/plain": [
       "   Rank      Country  Cost of Living Index  Rent Index  \\\n",
       "0   1.0  Afghanistan                 20.37        2.72   \n",
       "1   2.0      Albania                 35.50        8.47   \n",
       "2   3.0      Algeria                 26.87        4.59   \n",
       "3   4.0    Argentina                 34.69        7.71   \n",
       "4   5.0      Armenia                 33.89       11.61   \n",
       "\n",
       "   Cost of Living Plus Rent Index  Groceries Index  Restaurant Price Index  \\\n",
       "0                           12.09            14.92                   12.41   \n",
       "1                           22.83            29.32                   25.82   \n",
       "2                           16.43            28.82                   14.48   \n",
       "3                           22.04            28.17                   33.32   \n",
       "4                           23.45            27.59                   30.55   \n",
       "\n",
       "   Local Purchasing Power Index  \n",
       "0                         23.04  \n",
       "1                         30.19  \n",
       "2                         24.63  \n",
       "3                         30.72  \n",
       "4                         28.86  "
      ]
     },
     "execution_count": 57,
     "metadata": {},
     "output_type": "execute_result"
    }
   ],
   "source": [
    "column_df.head()"
   ]
  },
  {
   "cell_type": "code",
   "execution_count": 58,
   "metadata": {
    "execution": {
     "iopub.execute_input": "2022-03-30T11:22:25.111037Z",
     "iopub.status.busy": "2022-03-30T11:22:25.110409Z",
     "iopub.status.idle": "2022-03-30T11:22:25.124287Z",
     "shell.execute_reply": "2022-03-30T11:22:25.123385Z",
     "shell.execute_reply.started": "2022-03-30T11:22:25.111Z"
    }
   },
   "outputs": [
    {
     "data": {
      "text/plain": [
       "(139, 8)"
      ]
     },
     "execution_count": 58,
     "metadata": {},
     "output_type": "execute_result"
    }
   ],
   "source": [
    "column_df.shape\n"
   ]
  },
  {
   "cell_type": "code",
   "execution_count": 59,
   "metadata": {
    "execution": {
     "iopub.execute_input": "2022-03-30T11:22:25.127766Z",
     "iopub.status.busy": "2022-03-30T11:22:25.126856Z",
     "iopub.status.idle": "2022-03-30T11:22:25.17912Z",
     "shell.execute_reply": "2022-03-30T11:22:25.178016Z",
     "shell.execute_reply.started": "2022-03-30T11:22:25.127716Z"
    }
   },
   "outputs": [
    {
     "data": {
      "text/html": [
       "<div>\n",
       "<style scoped>\n",
       "    .dataframe tbody tr th:only-of-type {\n",
       "        vertical-align: middle;\n",
       "    }\n",
       "\n",
       "    .dataframe tbody tr th {\n",
       "        vertical-align: top;\n",
       "    }\n",
       "\n",
       "    .dataframe thead th {\n",
       "        text-align: right;\n",
       "    }\n",
       "</style>\n",
       "<table border=\"1\" class=\"dataframe\">\n",
       "  <thead>\n",
       "    <tr style=\"text-align: right;\">\n",
       "      <th></th>\n",
       "      <th>Rank</th>\n",
       "      <th>Cost of Living Index</th>\n",
       "      <th>Rent Index</th>\n",
       "      <th>Cost of Living Plus Rent Index</th>\n",
       "      <th>Groceries Index</th>\n",
       "      <th>Restaurant Price Index</th>\n",
       "      <th>Local Purchasing Power Index</th>\n",
       "    </tr>\n",
       "  </thead>\n",
       "  <tbody>\n",
       "    <tr>\n",
       "      <th>count</th>\n",
       "      <td>139.000000</td>\n",
       "      <td>139.000000</td>\n",
       "      <td>139.000000</td>\n",
       "      <td>139.000000</td>\n",
       "      <td>139.000000</td>\n",
       "      <td>139.000000</td>\n",
       "      <td>139.000000</td>\n",
       "    </tr>\n",
       "    <tr>\n",
       "      <th>mean</th>\n",
       "      <td>70.000000</td>\n",
       "      <td>50.188633</td>\n",
       "      <td>19.291511</td>\n",
       "      <td>35.705324</td>\n",
       "      <td>46.637842</td>\n",
       "      <td>43.444892</td>\n",
       "      <td>46.426259</td>\n",
       "    </tr>\n",
       "    <tr>\n",
       "      <th>std</th>\n",
       "      <td>40.269923</td>\n",
       "      <td>20.860222</td>\n",
       "      <td>15.317726</td>\n",
       "      <td>17.542523</td>\n",
       "      <td>20.952229</td>\n",
       "      <td>24.885969</td>\n",
       "      <td>26.921840</td>\n",
       "    </tr>\n",
       "    <tr>\n",
       "      <th>min</th>\n",
       "      <td>1.000000</td>\n",
       "      <td>19.920000</td>\n",
       "      <td>2.720000</td>\n",
       "      <td>12.090000</td>\n",
       "      <td>14.920000</td>\n",
       "      <td>12.410000</td>\n",
       "      <td>1.450000</td>\n",
       "    </tr>\n",
       "    <tr>\n",
       "      <th>25%</th>\n",
       "      <td>35.500000</td>\n",
       "      <td>34.715000</td>\n",
       "      <td>9.515000</td>\n",
       "      <td>23.310000</td>\n",
       "      <td>31.200000</td>\n",
       "      <td>25.290000</td>\n",
       "      <td>27.040000</td>\n",
       "    </tr>\n",
       "    <tr>\n",
       "      <th>50%</th>\n",
       "      <td>70.000000</td>\n",
       "      <td>44.680000</td>\n",
       "      <td>13.930000</td>\n",
       "      <td>31.260000</td>\n",
       "      <td>40.220000</td>\n",
       "      <td>34.560000</td>\n",
       "      <td>37.220000</td>\n",
       "    </tr>\n",
       "    <tr>\n",
       "      <th>75%</th>\n",
       "      <td>104.500000</td>\n",
       "      <td>62.580000</td>\n",
       "      <td>25.070000</td>\n",
       "      <td>44.865000</td>\n",
       "      <td>56.590000</td>\n",
       "      <td>54.925000</td>\n",
       "      <td>66.105000</td>\n",
       "    </tr>\n",
       "    <tr>\n",
       "      <th>max</th>\n",
       "      <td>139.000000</td>\n",
       "      <td>146.040000</td>\n",
       "      <td>98.580000</td>\n",
       "      <td>123.800000</td>\n",
       "      <td>148.660000</td>\n",
       "      <td>159.170000</td>\n",
       "      <td>118.440000</td>\n",
       "    </tr>\n",
       "  </tbody>\n",
       "</table>\n",
       "</div>"
      ],
      "text/plain": [
       "             Rank  Cost of Living Index  Rent Index  \\\n",
       "count  139.000000            139.000000  139.000000   \n",
       "mean    70.000000             50.188633   19.291511   \n",
       "std     40.269923             20.860222   15.317726   \n",
       "min      1.000000             19.920000    2.720000   \n",
       "25%     35.500000             34.715000    9.515000   \n",
       "50%     70.000000             44.680000   13.930000   \n",
       "75%    104.500000             62.580000   25.070000   \n",
       "max    139.000000            146.040000   98.580000   \n",
       "\n",
       "       Cost of Living Plus Rent Index  Groceries Index  \\\n",
       "count                      139.000000       139.000000   \n",
       "mean                        35.705324        46.637842   \n",
       "std                         17.542523        20.952229   \n",
       "min                         12.090000        14.920000   \n",
       "25%                         23.310000        31.200000   \n",
       "50%                         31.260000        40.220000   \n",
       "75%                         44.865000        56.590000   \n",
       "max                        123.800000       148.660000   \n",
       "\n",
       "       Restaurant Price Index  Local Purchasing Power Index  \n",
       "count              139.000000                    139.000000  \n",
       "mean                43.444892                     46.426259  \n",
       "std                 24.885969                     26.921840  \n",
       "min                 12.410000                      1.450000  \n",
       "25%                 25.290000                     27.040000  \n",
       "50%                 34.560000                     37.220000  \n",
       "75%                 54.925000                     66.105000  \n",
       "max                159.170000                    118.440000  "
      ]
     },
     "execution_count": 59,
     "metadata": {},
     "output_type": "execute_result"
    }
   ],
   "source": [
    "# describe the data \n",
    "column_df.describe()"
   ]
  },
  {
   "cell_type": "code",
   "execution_count": 60,
   "metadata": {
    "execution": {
     "iopub.execute_input": "2022-03-30T11:22:25.182479Z",
     "iopub.status.busy": "2022-03-30T11:22:25.182214Z",
     "iopub.status.idle": "2022-03-30T11:22:25.20416Z",
     "shell.execute_reply": "2022-03-30T11:22:25.20294Z",
     "shell.execute_reply.started": "2022-03-30T11:22:25.182448Z"
    }
   },
   "outputs": [
    {
     "name": "stdout",
     "output_type": "stream",
     "text": [
      "<class 'pandas.core.frame.DataFrame'>\n",
      "RangeIndex: 139 entries, 0 to 138\n",
      "Data columns (total 8 columns):\n",
      " #   Column                          Non-Null Count  Dtype  \n",
      "---  ------                          --------------  -----  \n",
      " 0   Rank                            139 non-null    float64\n",
      " 1   Country                         139 non-null    object \n",
      " 2   Cost of Living Index            139 non-null    float64\n",
      " 3   Rent Index                      139 non-null    float64\n",
      " 4   Cost of Living Plus Rent Index  139 non-null    float64\n",
      " 5   Groceries Index                 139 non-null    float64\n",
      " 6   Restaurant Price Index          139 non-null    float64\n",
      " 7   Local Purchasing Power Index    139 non-null    float64\n",
      "dtypes: float64(7), object(1)\n",
      "memory usage: 8.8+ KB\n"
     ]
    }
   ],
   "source": [
    "# info()\n",
    "column_df.info()"
   ]
  },
  {
   "cell_type": "code",
   "execution_count": 61,
   "metadata": {
    "execution": {
     "iopub.execute_input": "2022-03-30T11:22:25.206355Z",
     "iopub.status.busy": "2022-03-30T11:22:25.206047Z",
     "iopub.status.idle": "2022-03-30T11:22:25.222903Z",
     "shell.execute_reply": "2022-03-30T11:22:25.222119Z",
     "shell.execute_reply.started": "2022-03-30T11:22:25.206322Z"
    }
   },
   "outputs": [
    {
     "data": {
      "text/plain": [
       "Rank                              0\n",
       "Country                           0\n",
       "Cost of Living Index              0\n",
       "Rent Index                        0\n",
       "Cost of Living Plus Rent Index    0\n",
       "Groceries Index                   0\n",
       "Restaurant Price Index            0\n",
       "Local Purchasing Power Index      0\n",
       "dtype: int64"
      ]
     },
     "execution_count": 61,
     "metadata": {},
     "output_type": "execute_result"
    }
   ],
   "source": [
    "# check missing values \n",
    "column_df.isnull().sum()"
   ]
  },
  {
   "cell_type": "code",
   "execution_count": 62,
   "metadata": {
    "execution": {
     "iopub.execute_input": "2022-03-30T11:22:25.224832Z",
     "iopub.status.busy": "2022-03-30T11:22:25.224102Z",
     "iopub.status.idle": "2022-03-30T11:22:25.248399Z",
     "shell.execute_reply": "2022-03-30T11:22:25.247485Z",
     "shell.execute_reply.started": "2022-03-30T11:22:25.224783Z"
    }
   },
   "outputs": [
    {
     "data": {
      "text/html": [
       "<div>\n",
       "<style scoped>\n",
       "    .dataframe tbody tr th:only-of-type {\n",
       "        vertical-align: middle;\n",
       "    }\n",
       "\n",
       "    .dataframe tbody tr th {\n",
       "        vertical-align: top;\n",
       "    }\n",
       "\n",
       "    .dataframe thead th {\n",
       "        text-align: right;\n",
       "    }\n",
       "</style>\n",
       "<table border=\"1\" class=\"dataframe\">\n",
       "  <thead>\n",
       "    <tr style=\"text-align: right;\">\n",
       "      <th></th>\n",
       "      <th>Rank</th>\n",
       "      <th>Cost of Living Index</th>\n",
       "      <th>Rent Index</th>\n",
       "      <th>Cost of Living Plus Rent Index</th>\n",
       "      <th>Groceries Index</th>\n",
       "      <th>Restaurant Price Index</th>\n",
       "      <th>Local Purchasing Power Index</th>\n",
       "    </tr>\n",
       "  </thead>\n",
       "  <tbody>\n",
       "    <tr>\n",
       "      <th>Rank</th>\n",
       "      <td>1.000000</td>\n",
       "      <td>-0.058682</td>\n",
       "      <td>-0.022347</td>\n",
       "      <td>-0.046217</td>\n",
       "      <td>-0.014720</td>\n",
       "      <td>-0.066568</td>\n",
       "      <td>0.001868</td>\n",
       "    </tr>\n",
       "    <tr>\n",
       "      <th>Cost of Living Index</th>\n",
       "      <td>-0.058682</td>\n",
       "      <td>1.000000</td>\n",
       "      <td>0.838079</td>\n",
       "      <td>0.974752</td>\n",
       "      <td>0.965435</td>\n",
       "      <td>0.934505</td>\n",
       "      <td>0.687244</td>\n",
       "    </tr>\n",
       "    <tr>\n",
       "      <th>Rent Index</th>\n",
       "      <td>-0.022347</td>\n",
       "      <td>0.838079</td>\n",
       "      <td>1.000000</td>\n",
       "      <td>0.938735</td>\n",
       "      <td>0.799108</td>\n",
       "      <td>0.800190</td>\n",
       "      <td>0.638075</td>\n",
       "    </tr>\n",
       "    <tr>\n",
       "      <th>Cost of Living Plus Rent Index</th>\n",
       "      <td>-0.046217</td>\n",
       "      <td>0.974752</td>\n",
       "      <td>0.938735</td>\n",
       "      <td>1.000000</td>\n",
       "      <td>0.936967</td>\n",
       "      <td>0.917878</td>\n",
       "      <td>0.695304</td>\n",
       "    </tr>\n",
       "    <tr>\n",
       "      <th>Groceries Index</th>\n",
       "      <td>-0.014720</td>\n",
       "      <td>0.965435</td>\n",
       "      <td>0.799108</td>\n",
       "      <td>0.936967</td>\n",
       "      <td>1.000000</td>\n",
       "      <td>0.851450</td>\n",
       "      <td>0.626534</td>\n",
       "    </tr>\n",
       "    <tr>\n",
       "      <th>Restaurant Price Index</th>\n",
       "      <td>-0.066568</td>\n",
       "      <td>0.934505</td>\n",
       "      <td>0.800190</td>\n",
       "      <td>0.917878</td>\n",
       "      <td>0.851450</td>\n",
       "      <td>1.000000</td>\n",
       "      <td>0.690833</td>\n",
       "    </tr>\n",
       "    <tr>\n",
       "      <th>Local Purchasing Power Index</th>\n",
       "      <td>0.001868</td>\n",
       "      <td>0.687244</td>\n",
       "      <td>0.638075</td>\n",
       "      <td>0.695304</td>\n",
       "      <td>0.626534</td>\n",
       "      <td>0.690833</td>\n",
       "      <td>1.000000</td>\n",
       "    </tr>\n",
       "  </tbody>\n",
       "</table>\n",
       "</div>"
      ],
      "text/plain": [
       "                                    Rank  Cost of Living Index  Rent Index  \\\n",
       "Rank                            1.000000             -0.058682   -0.022347   \n",
       "Cost of Living Index           -0.058682              1.000000    0.838079   \n",
       "Rent Index                     -0.022347              0.838079    1.000000   \n",
       "Cost of Living Plus Rent Index -0.046217              0.974752    0.938735   \n",
       "Groceries Index                -0.014720              0.965435    0.799108   \n",
       "Restaurant Price Index         -0.066568              0.934505    0.800190   \n",
       "Local Purchasing Power Index    0.001868              0.687244    0.638075   \n",
       "\n",
       "                                Cost of Living Plus Rent Index  \\\n",
       "Rank                                                 -0.046217   \n",
       "Cost of Living Index                                  0.974752   \n",
       "Rent Index                                            0.938735   \n",
       "Cost of Living Plus Rent Index                        1.000000   \n",
       "Groceries Index                                       0.936967   \n",
       "Restaurant Price Index                                0.917878   \n",
       "Local Purchasing Power Index                          0.695304   \n",
       "\n",
       "                                Groceries Index  Restaurant Price Index  \\\n",
       "Rank                                  -0.014720               -0.066568   \n",
       "Cost of Living Index                   0.965435                0.934505   \n",
       "Rent Index                             0.799108                0.800190   \n",
       "Cost of Living Plus Rent Index         0.936967                0.917878   \n",
       "Groceries Index                        1.000000                0.851450   \n",
       "Restaurant Price Index                 0.851450                1.000000   \n",
       "Local Purchasing Power Index           0.626534                0.690833   \n",
       "\n",
       "                                Local Purchasing Power Index  \n",
       "Rank                                                0.001868  \n",
       "Cost of Living Index                                0.687244  \n",
       "Rent Index                                          0.638075  \n",
       "Cost of Living Plus Rent Index                      0.695304  \n",
       "Groceries Index                                     0.626534  \n",
       "Restaurant Price Index                              0.690833  \n",
       "Local Purchasing Power Index                        1.000000  "
      ]
     },
     "execution_count": 62,
     "metadata": {},
     "output_type": "execute_result"
    }
   ],
   "source": [
    "# correlation \n",
    "column_df.corr()"
   ]
  },
  {
   "cell_type": "markdown",
   "metadata": {},
   "source": [
    "## VISUALIZATION"
   ]
  },
  {
   "cell_type": "code",
   "execution_count": 63,
   "metadata": {
    "execution": {
     "iopub.execute_input": "2022-03-30T11:22:25.250643Z",
     "iopub.status.busy": "2022-03-30T11:22:25.250178Z",
     "iopub.status.idle": "2022-03-30T11:22:25.555729Z",
     "shell.execute_reply": "2022-03-30T11:22:25.555104Z",
     "shell.execute_reply.started": "2022-03-30T11:22:25.250595Z"
    }
   },
   "outputs": [
    {
     "name": "stderr",
     "output_type": "stream",
     "text": [
      "D:\\anaconda\\lib\\site-packages\\seaborn\\distributions.py:2557: FutureWarning: `distplot` is a deprecated function and will be removed in a future version. Please adapt your code to use either `displot` (a figure-level function with similar flexibility) or `kdeplot` (an axes-level function for kernel density plots).\n",
      "D:\\anaconda\\lib\\site-packages\\seaborn\\distributions.py:2056: FutureWarning: The `axis` variable is no longer used and will be removed. Instead, assign variables directly to `x` or `y`.\n"
     ]
    },
    {
     "data": {
      "image/png": "[encoded data removed]",
      "text/plain": [
       "<Figure size 720x576 with 1 Axes>"
      ]
     },
     "metadata": {
      "needs_background": "light"
     },
     "output_type": "display_data"
    }
   ],
   "source": [
    "plt.figure(figsize=(10,8))\n",
    "sns.distplot(column_df['Groceries Index'],\n",
    "            hist = False,\n",
    "            rug = True,\n",
    "            kde_kws={'shade':True})\n",
    "plt.show()"
   ]
  },
  {
   "cell_type": "code",
   "execution_count": 64,
   "metadata": {
    "execution": {
     "iopub.execute_input": "2022-03-30T11:22:25.557768Z",
     "iopub.status.busy": "2022-03-30T11:22:25.556778Z",
     "iopub.status.idle": "2022-03-30T11:22:25.817003Z",
     "shell.execute_reply": "2022-03-30T11:22:25.816032Z",
     "shell.execute_reply.started": "2022-03-30T11:22:25.557722Z"
    }
   },
   "outputs": [
    {
     "name": "stderr",
     "output_type": "stream",
     "text": [
      "D:\\anaconda\\lib\\site-packages\\seaborn\\distributions.py:2557: FutureWarning: `distplot` is a deprecated function and will be removed in a future version. Please adapt your code to use either `displot` (a figure-level function with similar flexibility) or `histplot` (an axes-level function for histograms).\n"
     ]
    },
    {
     "data": {
      "image/png": "[encoded data removed]",
      "text/plain": [
       "<Figure size 720x576 with 1 Axes>"
      ]
     },
     "metadata": {
      "needs_background": "light"
     },
     "output_type": "display_data"
    },
    {
     "data": {
      "text/plain": [
       "<Figure size 432x288 with 0 Axes>"
      ]
     },
     "metadata": {},
     "output_type": "display_data"
    }
   ],
   "source": [
    "plt.figure(figsize=(10,8))\n",
    "sns.distplot(column_df['Groceries Index'])\n",
    "plt.show()\n",
    "# clear the distplot\n",
    "plt.clf()"
   ]
  },
  {
   "cell_type": "code",
   "execution_count": 65,
   "metadata": {
    "execution": {
     "iopub.execute_input": "2022-03-30T11:22:25.818562Z",
     "iopub.status.busy": "2022-03-30T11:22:25.81833Z",
     "iopub.status.idle": "2022-03-30T11:22:26.080618Z",
     "shell.execute_reply": "2022-03-30T11:22:26.079718Z",
     "shell.execute_reply.started": "2022-03-30T11:22:25.818529Z"
    }
   },
   "outputs": [
    {
     "name": "stderr",
     "output_type": "stream",
     "text": [
      "D:\\anaconda\\lib\\site-packages\\seaborn\\distributions.py:2557: FutureWarning: `distplot` is a deprecated function and will be removed in a future version. Please adapt your code to use either `displot` (a figure-level function with similar flexibility) or `histplot` (an axes-level function for histograms).\n"
     ]
    },
    {
     "data": {
      "image/png": "[encoded data removed]",
      "text/plain": [
       "<Figure size 720x576 with 1 Axes>"
      ]
     },
     "metadata": {
      "needs_background": "light"
     },
     "output_type": "display_data"
    },
    {
     "data": {
      "text/plain": [
       "<Figure size 432x288 with 0 Axes>"
      ]
     },
     "metadata": {},
     "output_type": "display_data"
    }
   ],
   "source": [
    "plt.figure(figsize=(10,8))\n",
    "sns.distplot(column_df['Cost of Living Index'])\n",
    "plt.show()\n",
    "# clear the distplot\n",
    "plt.clf()"
   ]
  },
  {
   "cell_type": "code",
   "execution_count": 66,
   "metadata": {
    "execution": {
     "iopub.execute_input": "2022-03-30T11:22:26.082284Z",
     "iopub.status.busy": "2022-03-30T11:22:26.08202Z",
     "iopub.status.idle": "2022-03-30T11:22:26.355207Z",
     "shell.execute_reply": "2022-03-30T11:22:26.354374Z",
     "shell.execute_reply.started": "2022-03-30T11:22:26.08225Z"
    }
   },
   "outputs": [
    {
     "name": "stderr",
     "output_type": "stream",
     "text": [
      "D:\\anaconda\\lib\\site-packages\\seaborn\\distributions.py:2557: FutureWarning: `distplot` is a deprecated function and will be removed in a future version. Please adapt your code to use either `displot` (a figure-level function with similar flexibility) or `histplot` (an axes-level function for histograms).\n"
     ]
    },
    {
     "data": {
      "image/png": "[encoded data removed]",
      "text/plain": [
       "<Figure size 720x576 with 1 Axes>"
      ]
     },
     "metadata": {
      "needs_background": "light"
     },
     "output_type": "display_data"
    },
    {
     "data": {
      "text/plain": [
       "<Figure size 432x288 with 0 Axes>"
      ]
     },
     "metadata": {},
     "output_type": "display_data"
    }
   ],
   "source": [
    "plt.figure(figsize=(10,8))\n",
    "sns.distplot(column_df['Rent Index'])\n",
    "plt.show()\n",
    "# clear the distplot\n",
    "plt.clf()"
   ]
  },
  {
   "cell_type": "code",
   "execution_count": 67,
   "metadata": {
    "execution": {
     "iopub.execute_input": "2022-03-30T11:22:26.356857Z",
     "iopub.status.busy": "2022-03-30T11:22:26.356605Z",
     "iopub.status.idle": "2022-03-30T11:22:26.584232Z",
     "shell.execute_reply": "2022-03-30T11:22:26.583165Z",
     "shell.execute_reply.started": "2022-03-30T11:22:26.356824Z"
    }
   },
   "outputs": [
    {
     "data": {
      "image/png": "[encoded data removed]",
      "text/plain": [
       "<Figure size 720x576 with 1 Axes>"
      ]
     },
     "metadata": {
      "needs_background": "light"
     },
     "output_type": "display_data"
    }
   ],
   "source": [
    "plt.figure(figsize=(10,8))\n",
    "plt.hist(column_df['Restaurant Price Index'])\n",
    "plt.xlabel('Price_Index')\n",
    "plt.ylabel('Frequency')\n",
    "plt.show()"
   ]
  },
  {
   "cell_type": "code",
   "execution_count": 68,
   "metadata": {
    "execution": {
     "iopub.execute_input": "2022-03-30T11:22:26.586051Z",
     "iopub.status.busy": "2022-03-30T11:22:26.585753Z",
     "iopub.status.idle": "2022-03-30T11:22:26.826629Z",
     "shell.execute_reply": "2022-03-30T11:22:26.825644Z",
     "shell.execute_reply.started": "2022-03-30T11:22:26.586012Z"
    }
   },
   "outputs": [
    {
     "data": {
      "image/png": "[encoded data removed]",
      "text/plain": [
       "<Figure size 720x576 with 1 Axes>"
      ]
     },
     "metadata": {
      "needs_background": "light"
     },
     "output_type": "display_data"
    }
   ],
   "source": [
    "plt.figure(figsize=(10,8))\n",
    "plt.hist(column_df['Local Purchasing Power Index'])\n",
    "plt.ylabel('Frequency')\n",
    "plt.show()"
   ]
  },
  {
   "cell_type": "code",
   "execution_count": 69,
   "metadata": {
    "execution": {
     "iopub.execute_input": "2022-03-30T11:22:26.828307Z",
     "iopub.status.busy": "2022-03-30T11:22:26.828041Z",
     "iopub.status.idle": "2022-03-30T11:22:27.293604Z",
     "shell.execute_reply": "2022-03-30T11:22:27.292728Z",
     "shell.execute_reply.started": "2022-03-30T11:22:26.828271Z"
    }
   },
   "outputs": [
    {
     "name": "stderr",
     "output_type": "stream",
     "text": [
      "D:\\anaconda\\lib\\site-packages\\seaborn\\distributions.py:2557: FutureWarning: `distplot` is a deprecated function and will be removed in a future version. Please adapt your code to use either `displot` (a figure-level function with similar flexibility) or `histplot` (an axes-level function for histograms).\n"
     ]
    },
    {
     "data": {
      "image/png": "[encoded data removed]",
      "text/plain": [
       "<Figure size 720x576 with 1 Axes>"
      ]
     },
     "metadata": {
      "needs_background": "light"
     },
     "output_type": "display_data"
    },
    {
     "data": {
      "text/plain": [
       "<Figure size 432x288 with 0 Axes>"
      ]
     },
     "metadata": {},
     "output_type": "display_data"
    }
   ],
   "source": [
    "plt.figure(figsize=(10,8))\n",
    "sns.distplot(column_df['Local Purchasing Power Index'])\n",
    "plt.show()\n",
    "# clear the distplot\n",
    "plt.clf()"
   ]
  },
  {
   "cell_type": "markdown",
   "metadata": {},
   "source": [
    "## COMPARISONS"
   ]
  },
  {
   "cell_type": "code",
   "execution_count": 70,
   "metadata": {
    "execution": {
     "iopub.execute_input": "2022-03-30T11:22:27.295224Z",
     "iopub.status.busy": "2022-03-30T11:22:27.294995Z",
     "iopub.status.idle": "2022-03-30T11:22:27.535534Z",
     "shell.execute_reply": "2022-03-30T11:22:27.534607Z",
     "shell.execute_reply.started": "2022-03-30T11:22:27.295196Z"
    }
   },
   "outputs": [
    {
     "data": {
      "image/png": "[encoded data removed]",
      "text/plain": [
       "<Figure size 720x360 with 1 Axes>"
      ]
     },
     "metadata": {
      "needs_background": "light"
     },
     "output_type": "display_data"
    }
   ],
   "source": [
    "col_df= column_df[['Country','Rent Index']].sort_values(by= 'Rent Index').tail(5).plot.barh(x = 'Country',y='Rent Index',color='pink',figsize=(10,5))"
   ]
  },
  {
   "cell_type": "code",
   "execution_count": null,
   "metadata": {},
   "outputs": [],
   "source": []
  },
  {
   "cell_type": "markdown",
   "metadata": {},
   "source": [
    "## Most Exensive Resturant "
   ]
  },
  {
   "cell_type": "code",
   "execution_count": 71,
   "metadata": {
    "execution": {
     "iopub.execute_input": "2022-03-30T11:22:27.537155Z",
     "iopub.status.busy": "2022-03-30T11:22:27.536885Z",
     "iopub.status.idle": "2022-03-30T11:22:27.811105Z",
     "shell.execute_reply": "2022-03-30T11:22:27.810007Z",
     "shell.execute_reply.started": "2022-03-30T11:22:27.537114Z"
    }
   },
   "outputs": [
    {
     "data": {
      "image/png": "[encoded data removed]",
      "text/plain": [
       "<Figure size 720x360 with 1 Axes>"
      ]
     },
     "metadata": {
      "needs_background": "light"
     },
     "output_type": "display_data"
    }
   ],
   "source": [
    "col_df= column_df[['Country','Restaurant Price Index']].sort_values(by= 'Restaurant Price Index').tail(7).plot.barh(x = 'Country',y='Restaurant Price Index',color='blue',figsize=(10,5))"
   ]
  },
  {
   "cell_type": "code",
   "execution_count": 72,
   "metadata": {
    "execution": {
     "iopub.execute_input": "2022-03-30T11:24:03.730392Z",
     "iopub.status.busy": "2022-03-30T11:24:03.72926Z",
     "iopub.status.idle": "2022-03-30T11:24:03.948424Z",
     "shell.execute_reply": "2022-03-30T11:24:03.947766Z",
     "shell.execute_reply.started": "2022-03-30T11:24:03.730336Z"
    }
   },
   "outputs": [
    {
     "data": {
      "image/png": "[encoded data removed]",
      "text/plain": [
       "<Figure size 720x360 with 1 Axes>"
      ]
     },
     "metadata": {
      "needs_background": "light"
     },
     "output_type": "display_data"
    }
   ],
   "source": [
    "\n",
    "col_df= column_df[['Country','Groceries Index']].sort_values(by= 'Groceries Index').tail(7).plot.barh(x = 'Country',y='Groceries Index',color='green',figsize=(10,5))\n"
   ]
  }
 ],
 "metadata": {
  "kernelspec": {
   "display_name": "Python 3",
   "language": "python",
   "name": "python3"
  },
  "language_info": {
   "codemirror_mode": {
    "name": "ipython",
    "version": 3
   },
   "file_extension": ".py",
   "mimetype": "text/x-python",
   "name": "python",
   "nbconvert_exporter": "python",
   "pygments_lexer": "ipython3",
   "version": "3.8.8"
  }
 },
 "nbformat": 4,
 "nbformat_minor": 4
}
